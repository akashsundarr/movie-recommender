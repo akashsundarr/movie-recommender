{
 "cells": [
  {
   "cell_type": "markdown",
   "id": "0",
   "metadata": {},
   "source": [
    "**1. Install Dependencies**"
   ]
  },
  {
   "cell_type": "code",
   "execution_count": null,
   "metadata": {
    "id": "IhNGupWCU7Pe"
   },
   "outputs": [],
   "source": [
    "!pip install nltk scikit-learn numpy pandas -q"
   ]
  },
  {
   "cell_type": "markdown",
   "id": "2",
   "metadata": {},
   "source": [
    "**Importing the Dependencies**"
   ]
  },
  {
   "cell_type": "markdown",
   "id": "3",
   "metadata": {},
   "source": [
    "**2. Import Libraries**"
   ]
  },
  {
   "cell_type": "code",
   "execution_count": null,
   "metadata": {
    "id": "sGytGoajWDFw"
   },
   "outputs": [],
   "source": [
    "import numpy as np\n",
    "import pandas as pd\n",
    "import matplotlib.pyplot as plt\n",
    "from sklearn.feature_extraction.text import TfidfVectorizer\n",
    "from sklearn.metrics.pairwise import cosine_similarity\n",
    "from wordcloud import WordCloud\n",
    "import re\n",
    "import nltk\n",
    "from nltk.corpus import stopwords\n",
    "from nltk.tokenize import word_tokenize"
   ]
  },
  {
   "cell_type": "markdown",
   "id": "5",
   "metadata": {},
   "source": [
    "**Data Loading & Understanding**"
   ]
  },
  {
   "cell_type": "code",
   "execution_count": null,
   "metadata": {
    "id": "ET0_Yn8UWKrO"
   },
   "outputs": [],
   "source": [
    "# loading the dataset to a pandas dataframe\n",
    "df = pd.read_csv(\"movies.csv\")"
   ]
  },
  {
   "cell_type": "code",
   "execution_count": null,
   "metadata": {
    "colab": {
     "base_uri": "https://localhost:8080/"
    },
    "id": "oONubMrcWXmZ",
    "outputId": "d3021695-31dd-44b0-c2f4-e60cad1c9d02"
   },
   "outputs": [],
   "source": [
    "df.shape"
   ]
  },
  {
   "cell_type": "code",
   "execution_count": null,
   "metadata": {
    "colab": {
     "base_uri": "https://localhost:8080/",
     "height": 387
    },
    "id": "6LkmKoiaWZRo",
    "outputId": "71f88f3d-5c4a-47cd-c053-941e938fc6a9"
   },
   "outputs": [],
   "source": [
    "df.head(2)"
   ]
  },
  {
   "cell_type": "code",
   "execution_count": null,
   "metadata": {
    "colab": {
     "base_uri": "https://localhost:8080/"
    },
    "id": "VV3I62KDWcbR",
    "outputId": "125c138a-49b1-4421-dafe-fe47a558928f"
   },
   "outputs": [],
   "source": [
    "df.info()"
   ]
  },
  {
   "cell_type": "code",
   "execution_count": null,
   "metadata": {
    "id": "eulKPHS1WhSt"
   },
   "outputs": [],
   "source": [
    "# filter the required columns for recommendation\n",
    "required_columns = [\"genres\", \"keywords\", \"overview\", \"title\"]\n",
    "\n",
    "df = df[required_columns]"
   ]
  },
  {
   "cell_type": "code",
   "execution_count": null,
   "metadata": {
    "colab": {
     "base_uri": "https://localhost:8080/"
    },
    "id": "NJhtpvn4XNu-",
    "outputId": "361e80bb-5f6e-44d0-d458-c9437b36e965"
   },
   "outputs": [],
   "source": [
    "df.shape"
   ]
  },
  {
   "cell_type": "code",
   "execution_count": null,
   "metadata": {
    "colab": {
     "base_uri": "https://localhost:8080/",
     "height": 206
    },
    "id": "1_zIi-dlXOqc",
    "outputId": "3933e7d9-4d50-40ed-cc4a-0f26f2433c18"
   },
   "outputs": [],
   "source": [
    "df.head()"
   ]
  },
  {
   "cell_type": "code",
   "execution_count": null,
   "metadata": {
    "colab": {
     "base_uri": "https://localhost:8080/"
    },
    "id": "k7M9NrymXQeI",
    "outputId": "f4b2f037-c2a4-4c7d-b433-25741c93e8d9"
   },
   "outputs": [],
   "source": [
    "# check for missing values\n",
    "df.info()"
   ]
  },
  {
   "cell_type": "code",
   "execution_count": null,
   "metadata": {
    "id": "sCTbvlPiXxa2"
   },
   "outputs": [],
   "source": [
    "df = df.dropna().reset_index(drop=True)"
   ]
  },
  {
   "cell_type": "code",
   "execution_count": null,
   "metadata": {
    "colab": {
     "base_uri": "https://localhost:8080/"
    },
    "id": "EzyZma7oX6n5",
    "outputId": "364957b3-97f9-423c-c475-6dc72f5cf1fb"
   },
   "outputs": [],
   "source": [
    "df.info()"
   ]
  },
  {
   "cell_type": "code",
   "execution_count": null,
   "metadata": {
    "id": "iA6jlCI8X7Ti"
   },
   "outputs": [],
   "source": [
    "df['combined'] = df['genres'] + ' ' + df['keywords'] + ' ' + df['overview']"
   ]
  },
  {
   "cell_type": "code",
   "execution_count": null,
   "metadata": {
    "colab": {
     "base_uri": "https://localhost:8080/",
     "height": 293
    },
    "id": "oVjJHvA8YbBe",
    "outputId": "8e85fe36-80d2-4a64-ca5d-7d70c6c8d4fe"
   },
   "outputs": [],
   "source": [
    "df.head()"
   ]
  },
  {
   "cell_type": "code",
   "execution_count": null,
   "metadata": {
    "colab": {
     "base_uri": "https://localhost:8080/",
     "height": 293
    },
    "id": "8A_5kfZNYbug",
    "outputId": "b2088492-4ad4-41ce-b1b3-6816d705bb90"
   },
   "outputs": [],
   "source": [
    "df.tail()"
   ]
  },
  {
   "cell_type": "code",
   "execution_count": null,
   "metadata": {
    "id": "YhZEo8jrYgMi"
   },
   "outputs": [],
   "source": [
    "data = df[['title', 'combined']]"
   ]
  },
  {
   "cell_type": "code",
   "execution_count": null,
   "metadata": {
    "colab": {
     "base_uri": "https://localhost:8080/",
     "height": 206
    },
    "id": "insms6TgYpIj",
    "outputId": "ba5a0c2b-07ca-493e-d754-53328fb70967"
   },
   "outputs": [],
   "source": [
    "data.head()"
   ]
  },
  {
   "cell_type": "code",
   "execution_count": null,
   "metadata": {
    "colab": {
     "base_uri": "https://localhost:8080/"
    },
    "id": "5oH2A1hTYp0g",
    "outputId": "1c9303de-c349-4f40-9bd8-6e23f9d747bd"
   },
   "outputs": [],
   "source": [
    "data.shape"
   ]
  },
  {
   "cell_type": "code",
   "execution_count": null,
   "metadata": {
    "id": "1GCwYE4FYrEk"
   },
   "outputs": [],
   "source": [
    "# WordCloud for movie content\n",
    "combined_text = \" \".join(df['combined'])\n",
    "wordcloud = WordCloud(width=800, height=400, background_color=\"white\").generate(combined_text)"
   ]
  },
  {
   "cell_type": "code",
   "execution_count": null,
   "metadata": {
    "colab": {
     "base_uri": "https://localhost:8080/",
     "height": 444
    },
    "id": "DO63OFwVY2qL",
    "outputId": "268a7c29-58e0-4b15-ce32-bf3f6912650d"
   },
   "outputs": [],
   "source": [
    "# WordCloud to visualize the most common words in the movie content\n",
    "plt.figure(figsize=(10, 5))\n",
    "plt.imshow(wordcloud, interpolation='bilinear')\n",
    "plt.axis(\"off\")\n",
    "plt.title(\"Most Common Words in Movie content\")\n",
    "plt.show()"
   ]
  },
  {
   "cell_type": "code",
   "execution_count": null,
   "metadata": {
    "colab": {
     "base_uri": "https://localhost:8080/"
    },
    "id": "G2JWcbnuY7oe",
    "outputId": "cae7cb46-70ad-4869-d765-1001965b9dcf"
   },
   "outputs": [],
   "source": [
    "# download nltk data\n",
    "nltk.download('punkt')\n",
    "nltk.download('punkt_tab')\n",
    "nltk.download('stopwords')"
   ]
  },
  {
   "cell_type": "code",
   "execution_count": null,
   "metadata": {
    "id": "KxWUALdkZIzW"
   },
   "outputs": [],
   "source": [
    "stop_words = set(stopwords.words('english'))"
   ]
  },
  {
   "cell_type": "code",
   "execution_count": null,
   "metadata": {
    "id": "IiNmHEV3ZLhM"
   },
   "outputs": [],
   "source": [
    "def preprocess_text(text):\n",
    "    # Remove special characters and numbers\n",
    "    text = re.sub(r\"[^a-zA-Z\\s]\", \"\", text)\n",
    "    # Convert to lowercase\n",
    "    text = text.lower()\n",
    "    # Tokenize and remove stopwords\n",
    "    tokens = word_tokenize(text)\n",
    "    tokens = [word for word in tokens if word not in stop_words]\n",
    "    return \" \".join(tokens)"
   ]
  },
  {
   "cell_type": "code",
   "execution_count": null,
   "metadata": {
    "colab": {
     "base_uri": "https://localhost:8080/"
    },
    "id": "0xKsI2iQZMz-",
    "outputId": "9b9ca297-3c1d-4141-9562-c256f85a4ee0"
   },
   "outputs": [],
   "source": [
    "# Apply preprocessing to the movie content\n",
    "data['cleaned_text'] = df['combined'].apply(preprocess_text)"
   ]
  },
  {
   "cell_type": "code",
   "execution_count": null,
   "metadata": {
    "colab": {
     "base_uri": "https://localhost:8080/",
     "height": 206
    },
    "id": "dOTbqGAyZRl7",
    "outputId": "6ec1aa45-0ce6-46de-8b18-45c6a70e77f0"
   },
   "outputs": [],
   "source": [
    "data.head()"
   ]
  },
  {
   "cell_type": "code",
   "execution_count": null,
   "metadata": {
    "id": "V1hi3huhZgTt"
   },
   "outputs": [],
   "source": [
    "# Vectorization with TF-IDF\n",
    "tfidf_vectorizer = TfidfVectorizer(max_features=5000)\n",
    "tfidf_matrix = tfidf_vectorizer.fit_transform(data['cleaned_text'])"
   ]
  },
  {
   "cell_type": "code",
   "execution_count": null,
   "metadata": {
    "id": "r3vNguXUaTmy"
   },
   "outputs": [],
   "source": [
    "# Compute Cosine Similarity\n",
    "cosine_sim = cosine_similarity(tfidf_matrix, tfidf_matrix)"
   ]
  },
  {
   "cell_type": "code",
   "execution_count": null,
   "metadata": {
    "colab": {
     "base_uri": "https://localhost:8080/"
    },
    "id": "Q6OUuPyjcNKw",
    "outputId": "9d1b4184-4266-4556-b188-4450b7701c93"
   },
   "outputs": [],
   "source": [
    "print(cosine_sim[1])"
   ]
  },
  {
   "cell_type": "code",
   "execution_count": null,
   "metadata": {
    "id": "MBn1g4iNactO"
   },
   "outputs": [],
   "source": [
    "# Recommendation Function\n",
    "def recommend_movies(movie_name, cosine_sim=cosine_sim, df=data, top_n=5):\n",
    "    # Find the index of the movie\n",
    "    idx = df[df['title'].str.lower() == movie_name.lower()].index\n",
    "    if len(idx) == 0:\n",
    "        return \"Movie not found in the dataset!\"\n",
    "    idx = idx[0]\n",
    "\n",
    "    # Get similarity scores\n",
    "    sim_scores = list(enumerate(cosine_sim[idx]))\n",
    "    sim_scores = sorted(sim_scores, key=lambda x: x[1], reverse=True)\n",
    "    sim_scores = sim_scores[1:top_n+1]\n",
    "\n",
    "    # Get movie indices\n",
    "    movie_indices = [i[0] for i in sim_scores]\n",
    "\n",
    "    # Return top n similar movies\n",
    "    return df[['title']].iloc[movie_indices]"
   ]
  },
  {
   "cell_type": "code",
   "execution_count": null,
   "metadata": {
    "colab": {
     "base_uri": "https://localhost:8080/",
     "height": 458
    },
    "id": "dvcG3DnEbzQc",
    "outputId": "309a7bc2-386e-48e6-f2d6-112549037480"
   },
   "outputs": [],
   "source": [
    "data[\"title\"]"
   ]
  },
  {
   "cell_type": "code",
   "execution_count": null,
   "metadata": {
    "colab": {
     "base_uri": "https://localhost:8080/"
    },
    "id": "agmJZFWepvUo",
    "outputId": "37393d67-001f-44ed-c85f-ecdfce04c38b"
   },
   "outputs": [],
   "source": [
    "# row_index = df[df['title'] == \"Avengers: Age of Ultron\"].index\n",
    "row_index = df[df['title'] == \"Batman v Superman: Dawn of Justice\"].index\n",
    "print(row_index)"
   ]
  },
  {
   "cell_type": "code",
   "execution_count": null,
   "metadata": {
    "colab": {
     "base_uri": "https://localhost:8080/"
    },
    "id": "TUe335WwamLg",
    "outputId": "a5998fb9-f1ad-4b31-dc15-7bcee521d9f2"
   },
   "outputs": [],
   "source": [
    "movie_name = data[\"title\"][9]\n",
    "print(movie_name)"
   ]
  },
  {
   "cell_type": "code",
   "execution_count": null,
   "metadata": {
    "colab": {
     "base_uri": "https://localhost:8080/"
    },
    "id": "pC4u6e4RaoFg",
    "outputId": "719433cb-9d65-4e53-c997-cabe5a350e4d"
   },
   "outputs": [],
   "source": [
    "# Example Recommendation\n",
    "print(f\"Recommendations for the Movie {movie_name}\")\n",
    "recommendations = recommend_movies(movie_name)\n",
    "print(recommendations)"
   ]
  },
  {
   "cell_type": "code",
   "execution_count": null,
   "metadata": {
    "id": "gTz8tHSpa7Bm"
   },
   "outputs": [],
   "source": []
  }
 ],
 "metadata": {
  "colab": {
   "provenance": []
  },
  "kernelspec": {
   "display_name": "Python 3",
   "name": "python3"
  },
  "language_info": {
   "name": "python"
  }
 },
 "nbformat": 4,
 "nbformat_minor": 0
}
